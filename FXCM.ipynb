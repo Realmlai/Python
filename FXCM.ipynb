import fxcmpy
%matplotlib inline
fxcmpy.__version__
con = fxcmpy.fxcmpy(config_file='fxcm.cfg', server='demo')


#print(instruments[:5]) ['EUR/USD', 'USD/JPY', 'GBP/USD', 'USD/CHF', 'EUR/CHF']

print(con.get_instruments())
